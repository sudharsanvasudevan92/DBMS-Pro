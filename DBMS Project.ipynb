{
 "cells": [
  {
   "cell_type": "code",
   "execution_count": 1,
   "metadata": {},
   "outputs": [
    {
     "name": "stdout",
     "output_type": "stream",
     "text": [
      "Requirement already satisfied: tabulate in c:\\users\\pradeepa sudharsan\\appdata\\local\\programs\\python\\python311\\lib\\site-packages (0.9.0)\n",
      "Note: you may need to restart the kernel to use updated packages.\n"
     ]
    },
    {
     "name": "stderr",
     "output_type": "stream",
     "text": [
      "\n",
      "[notice] A new release of pip is available: 23.2.1 -> 24.0\n",
      "[notice] To update, run: python.exe -m pip install --upgrade pip\n"
     ]
    }
   ],
   "source": [
    "pip install tabulate"
   ]
  },
  {
   "cell_type": "code",
   "execution_count": 2,
   "metadata": {},
   "outputs": [],
   "source": [
    "import psycopg2\n",
    "from tabulate import tabulate"
   ]
  },
  {
   "cell_type": "code",
   "execution_count": 3,
   "metadata": {},
   "outputs": [
    {
     "name": "stdout",
     "output_type": "stream",
     "text": [
      "Beginning\n"
     ]
    }
   ],
   "source": [
    "print(\"Beginning\")"
   ]
  },
  {
   "cell_type": "code",
   "execution_count": 4,
   "metadata": {},
   "outputs": [
    {
     "name": "stdout",
     "output_type": "stream",
     "text": [
      "<connection object at 0x00000269D8C38D00; dsn: 'user=postgres password=xxx dbname=postgres host=localhost port=5434', closed: 0>\n"
     ]
    }
   ],
   "source": [
    "con = psycopg2.connect(\n",
    "    host=\"localhost\",\n",
    "    port=5434,\n",
    "    database=\"postgres\",\n",
    "    user=\"postgres\",\n",
    "    password=123456789)\n",
    "print(con)"
   ]
  },
  {
   "cell_type": "code",
   "execution_count": null,
   "metadata": {},
   "outputs": [],
   "source": [
    "try:\n",
    "    # Create a cursor object\n",
    "    cur = conn.cursor()\n",
    "    print(\"Connected to the database successfully.\")\n",
    "except Exception as e:\n",
    "    print(f\"An error occurred while connecting to the database: {e}\")"
   ]
  },
  {
   "cell_type": "code",
   "execution_count": null,
   "metadata": {},
   "outputs": [],
   "source": [
    "try:\n",
    "    cur.execute(\"SELECT table_name FROM information_schema.tables WHERE table_schema = 'public';\")\n",
    "    tables = cur.fetchall()\n",
    "\n",
    "    print(\"Tables in the database:\")\n",
    "    for table in tables:\n",
    "        print(table[0])\n",
    "\n",
    "except Exception as e:\n",
    "    print(\"Error:\", e)"
   ]
  },
  {
   "cell_type": "code",
   "execution_count": null,
   "metadata": {},
   "outputs": [],
   "source": [
    "try:\n",
    "    # 1. Delete product p1 from product and stock table\n",
    "    # Delete product p1 from stock table\n",
    "    cur.execute(\"DELETE FROM stock WHERE prod = 'p1';\")\n",
    "\n",
    "    # Delete product p1 from product table\n",
    "    cur.execute(\"DELETE FROM product WHERE prod = 'p1';\")\n",
    "\n",
    "    conn.commit()\n",
    "    print(\"Delete Completed: Product p1 deleted from Product and Stock tables.\")\n",
    "except Exception as e:\n",
    "    conn.rollback()\n",
    "    print(f\"Transaction 1 failed: {e}\")"
   ]
  },
  {
   "cell_type": "code",
   "execution_count": null,
   "metadata": {},
   "outputs": [],
   "source": [
    "try:\n",
    "    # 2. The depot d1 is deleted from Depot and Stock.\n",
    "    # Delete d1 from the Stock table\n",
    "    cur.execute(\"DELETE FROM stock WHERE dep = 'd1';\")\n",
    "\n",
    "    # Delete d1 from the Depot table\n",
    "    cur.execute(\"DELETE FROM depot WHERE dep = 'd1';\")\n",
    "\n",
    "    conn.commit()\n",
    "\n",
    "    print(\"Deletion successful: Depot d1 deleted from Depot and Stock tables.\")\n",
    "except Exception as e:\n",
    "    conn.rollback()\n",
    "    print(f\"Transaction 2 failed: {e}\")\n"
   ]
  },
  {
   "cell_type": "code",
   "execution_count": null,
   "metadata": {},
   "outputs": [],
   "source": [
    "def update_product_id(connection, cursor, p1, pp1):\n",
    "    try:\n",
    "        # Begin a transaction\n",
    "        connection.autocommit = False\n",
    "\n",
    "        # Update the product ID in the product table\n",
    "        update_product_query = \"\"\"UPDATE product \n",
    "                                  SET prod = %s\n",
    "                                  WHERE prod = %s\"\"\"\n",
    "        cursor.execute(update_product_query, (pp1, p1))\n",
    "\n",
    "        # Update the product ID in the stock table\n",
    "        update_stock_query = \"\"\"UPDATE stock\n",
    "                                SET prod = %s\n",
    "                                WHERE prod = %s\"\"\"\n",
    "        cursor.execute(update_stock_query, (pp1, p1))\n",
    "\n",
    "        # Commit the transaction\n",
    "        connection.commit()\n",
    "        print(\"Product ID updated successfully.\")\n",
    "\n",
    "    except psycopg2.DatabaseError as db_error:\n",
    "        # Rollback the transaction if any database error occurs\n",
    "        connection.rollback()\n",
    "        print(\"Error occurred. Transaction rolled back:\", db_error)\n",
    "\n"
   ]
  },
  {
   "cell_type": "code",
   "execution_count": null,
   "metadata": {},
   "outputs": [],
   "source": [
    "try:\n",
    "    # Establish a connection to the PostgreSQL database\n",
    "    connection = psycopg2.connect(user=\"postgres\",\n",
    "                                  password=\"123456789\",\n",
    "                                  host=\"localhost\",\n",
    "                                  port=\"5434\",\n",
    "                                  database=\"postgres\")\n",
    "\n",
    "    cursor = connection.cursor()\n",
    "\n",
    "    # Specify the old and new product IDs\n",
    "    old_prod_id = 'p1'\n",
    "    new_prod_id = 'pp1'\n",
    "\n",
    "    # Call the function to update the product ID\n",
    "    update_product_id(connection, cursor, old_prod_id, new_prod_id)\n",
    "\n",
    "except (Exception, Error) as error:\n",
    "    print(\"Error while connecting to PostgreSQL:\", error)\n",
    "\n",
    "finally:\n",
    "    # Close the database connection\n",
    "    if connection:\n",
    "        connection.close()\n",
    "        print(\"PostgreSQL connection is closed.\")\n",
    "import psycopg2\n",
    "from psycopg2 import Error\n",
    "\n",
    "def update_depot_name(connection, cursor, d1, dd1):\n",
    "    try:\n",
    "        # Begin a transaction\n",
    "        connection.autocommit = False\n",
    "\n",
    "        # Update the depot name in the Depot table\n",
    "        update_depot_query = \"\"\"UPDATE Depot\n",
    "                                SET dep = %s\n",
    "                                WHERE dep = %s\"\"\"\n",
    "        cursor.execute(update_depot_query, (dd1,d1))\n",
    "\n",
    "        # Update the depot name in the Stock table\n",
    "        update_stock_query = \"\"\"UPDATE Stock\n",
    "                                SET dep = %s\n",
    "                                WHERE dep = %s\"\"\"\n",
    "        cursor.execute(update_stock_query, (dd1,d1))\n",
    "\n",
    "        # Commit the transaction\n",
    "        connection.commit()\n",
    "        print(\"Depot name updated successfully.\")\n",
    "\n",
    "    except psycopg2.DatabaseError as db_error:\n",
    "        # Rollback the transaction if any database error occurs\n",
    "        connection.rollback()\n",
    "        print(\"Error occurred. Transaction rolled back:\", db_error)\n",
    "\n",
    "    finally:\n",
    "        # Reset autocommit to True and close the cursor\n",
    "        connection.autocommit = True\n",
    "        cursor.close()\n",
    "\n",
    "try:\n",
    "    # Establish a connection to the PostgreSQL database\n",
    "    connection = psycopg2.connect(user=\"postgres\",\n",
    "                                  password=\"123456789\",\n",
    "                                  host=\"localhost\",\n",
    "                                  port=\"5434\",\n",
    "                                  database=\"postgres\")\n",
    "\n",
    "    cursor = connection.cursor()\n",
    "\n",
    "    # Specify the old and new depot names\n",
    "    old_name = 'd1'\n",
    "    new_name = 'dd1'\n",
    "\n",
    "    # Call the function to update the depot name\n",
    "    update_depot_name(connection, cursor, old_name, new_name)\n",
    "\n",
    "except (Exception, Error) as error:\n",
    "    print(\"Error while connecting to PostgreSQL:\", error)\n",
    "\n",
    "finally:\n",
    "    # Close the database connection\n",
    "    if connection:\n",
    "        connection.close()\n",
    "        print(\"PostgreSQL connection is closed.\")\n"
   ]
  },
  {
   "cell_type": "code",
   "execution_count": null,
   "metadata": {},
   "outputs": [],
   "source": [
    "try:\n",
    "    cur=con.cursor()\n",
    "    cur,execute(\"insert into product values('p100','cd',5)\"))\n",
    "except (Exception,psycopg2.DatabaseError) as err:\n",
    "    print(err)\n",
    "    print(\"Transaction could not be completed so database will be rolled back\")\n",
    "    con.rollback()\n",
    "finally: \n",
    "    if con:\n",
    "        con.commit()"
   ]
  },
  {
   "cell_type": "code",
   "execution_count": null,
   "metadata": {},
   "outputs": [],
   "source": [
    "try:\n",
    "    cur=con.cursor()\n",
    "    cur,execute(\"insert into stock values('p100','d2',50)\"))\n",
    "except (Exception,psycopg2.DatabaseError) as err:\n",
    "    print(err)\n",
    "    print(\"Transaction could not be completed so database will be rolled back\")\n",
    "    con.rollback()\n",
    "finally: \n",
    "    if con:\n",
    "        con.commit()"
   ]
  },
  {
   "cell_type": "code",
   "execution_count": null,
   "metadata": {},
   "outputs": [],
   "source": [
    "try:\n",
    "    cur=con.cursor()\n",
    "    cur,execute(\"insert into depot values('d100','Chicago',100)\"))\n",
    "except (Exception,psycopg2.DatabaseError) as err:\n",
    "    print(err)\n",
    "    print(\"Transaction could not be completed so database will be rolled back\")\n",
    "    con.rollback()\n",
    "finally: \n",
    "    if con:\n",
    "        con.commit()"
   ]
  },
  {
   "cell_type": "code",
   "execution_count": null,
   "metadata": {},
   "outputs": [],
   "source": [
    "try:\n",
    "    cur=con.cursor()\n",
    "    cur,execute(\"insert into stock values('p1','d100',100)\"))\n",
    "except (Exception,psycopg2.DatabaseError) as err:\n",
    "    print(err)\n",
    "    print(\"Transaction could not be completed so database will be rolled back\")\n",
    "    con.rollback()\n",
    "finally: \n",
    "    if con:\n",
    "        con.commit()\n",
    "        cur.close\n",
    "        con.close\n",
    "        print(\"PostgreSQL conneciton is now closed\")\n",
    "        print(\"End\")"
   ]
  }
 ],
 "metadata": {
  "kernelspec": {
   "display_name": "Python 3",
   "language": "python",
   "name": "python3"
  },
  "language_info": {
   "codemirror_mode": {
    "name": "ipython",
    "version": 3
   },
   "file_extension": ".py",
   "mimetype": "text/x-python",
   "name": "python",
   "nbconvert_exporter": "python",
   "pygments_lexer": "ipython3",
   "version": "3.11.5"
  }
 },
 "nbformat": 4,
 "nbformat_minor": 2
}
